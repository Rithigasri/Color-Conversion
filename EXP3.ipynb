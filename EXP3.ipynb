{
 "cells": [
  {
   "cell_type": "code",
   "execution_count": 1,
   "id": "4cfcb29e",
   "metadata": {},
   "outputs": [],
   "source": [
    "import cv2\n",
    "img=cv2.imread('image.jpg')\n",
    "#Original image\n",
    "cv2.imshow('Original Image',img)\n",
    "cv2.waitKey(0)\n",
    "cv2.destroyAllWindows()"
   ]
  },
  {
   "cell_type": "code",
   "execution_count": 6,
   "id": "34dad4af",
   "metadata": {},
   "outputs": [],
   "source": [
    "# 1.CONVERT BGR AND RGB TO HSV AND GRAY"
   ]
  },
  {
   "cell_type": "code",
   "execution_count": 8,
   "id": "f8bcad66",
   "metadata": {},
   "outputs": [],
   "source": [
    "#BGR2HSV\n",
    "hsv_img=cv2.cvtColor(img,cv2.COLOR_BGR2HSV)\n",
    "cv2.imshow('BGR2HSV',hsv_img)\n",
    "cv2.waitKey(0)\n",
    "cv2.destroyAllWindows()"
   ]
  },
  {
   "cell_type": "code",
   "execution_count": 9,
   "id": "8aacc4af",
   "metadata": {},
   "outputs": [],
   "source": [
    "#RGB2HSV\n",
    "hsv_img1=cv2.cvtColor(img,cv2.COLOR_RGB2HSV)\n",
    "cv2.imshow('RGB2HSV',hsv_img1)\n",
    "cv2.waitKey(0)\n",
    "cv2.destroyAllWindows()"
   ]
  },
  {
   "cell_type": "code",
   "execution_count": 10,
   "id": "afd56f33",
   "metadata": {},
   "outputs": [],
   "source": [
    "#BGR2GRAY\n",
    "gray_img=cv2.cvtColor(img,cv2.COLOR_BGR2GRAY)\n",
    "cv2.imshow('BGR2GRAY',gray_img)\n",
    "cv2.waitKey(0)\n",
    "cv2.destroyAllWindows()"
   ]
  },
  {
   "cell_type": "code",
   "execution_count": 11,
   "id": "f7551ff4",
   "metadata": {},
   "outputs": [],
   "source": [
    "#RGB2GRAY\n",
    "gray_img1=cv2.cvtColor(img,cv2.COLOR_RGB2GRAY)\n",
    "cv2.imshow('RGB2GRAY',gray_img1)\n",
    "cv2.waitKey(0)\n",
    "cv2.destroyAllWindows()"
   ]
  },
  {
   "cell_type": "code",
   "execution_count": 8,
   "id": "ad765c21",
   "metadata": {},
   "outputs": [],
   "source": [
    "# 2.CONVERT HSV TO RGB AND BGR"
   ]
  },
  {
   "cell_type": "code",
   "execution_count": 12,
   "id": "2b13eea3",
   "metadata": {},
   "outputs": [],
   "source": [
    "#HSV TO RGB\n",
    "rgb_img=cv2.cvtColor(img,cv2.COLOR_HSV2RGB)\n",
    "cv2.imshow('HSV TO RGB',img)\n",
    "cv2.waitKey(0)\n",
    "cv2.destroyAllWindows()"
   ]
  },
  {
   "cell_type": "code",
   "execution_count": 15,
   "id": "b365b4eb",
   "metadata": {},
   "outputs": [],
   "source": [
    "#HSV TO BGR\n",
    "bgr_img=cv2.cvtColor(img,cv2.COLOR_HSV2BGR)\n",
    "cv2.imshow('HSV TO BGR',bgr_img)\n",
    "cv2.waitKey(0)\n",
    "cv2.destroyAllWindows()"
   ]
  },
  {
   "cell_type": "code",
   "execution_count": 11,
   "id": "e446f11b",
   "metadata": {},
   "outputs": [],
   "source": [
    "# 3.RGB AND BGR TO YCrCb"
   ]
  },
  {
   "cell_type": "code",
   "execution_count": 16,
   "id": "483f094d",
   "metadata": {},
   "outputs": [],
   "source": [
    "#RGB to YCrCb\n",
    "YCrCb_img=cv2.cvtColor(img,cv2.COLOR_RGB2YCrCb)\n",
    "cv2.imshow('RGB2YCrCb',YCrCb_img)\n",
    "cv2.waitKey(0)\n",
    "cv2.destroyAllWindows()"
   ]
  },
  {
   "cell_type": "code",
   "execution_count": 17,
   "id": "de41f9dc",
   "metadata": {},
   "outputs": [],
   "source": [
    "#BGR TO YCrCb\n",
    "YCrCb_img1=cv2.cvtColor(img,cv2.COLOR_BGR2YCrCb)\n",
    "cv2.imshow('RGB2YCrCb',YCrCb_img1)\n",
    "cv2.waitKey(0)\n",
    "cv2.destroyAllWindows()"
   ]
  },
  {
   "cell_type": "code",
   "execution_count": 14,
   "id": "97d6d0f8",
   "metadata": {},
   "outputs": [],
   "source": [
    "# 4.Split and merge RGB image"
   ]
  },
  {
   "cell_type": "code",
   "execution_count": null,
   "id": "d91c517d",
   "metadata": {},
   "outputs": [],
   "source": [
    "blue=img[:,:,0]\n",
    "green=img[:,:,1]\n",
    "red=img[:,:,2]\n",
    "cv2.imshow('B-Channel',blue)\n",
    "cv2.imshow('G-Channel',green)\n",
    "cv2.imshow('R-Channel',red)\n",
    "merged_BGR=cv2.merge((blue,green,red))\n",
    "cv2.imshow('Merged BGR Image',merged_BGR)\n",
    "cv2.waitKey(0)\n",
    "cv2.destoryAllWindows()"
   ]
  },
  {
   "cell_type": "code",
   "execution_count": 16,
   "id": "eb02c234",
   "metadata": {},
   "outputs": [],
   "source": [
    "#5.Split and merge HSV image"
   ]
  },
  {
   "cell_type": "code",
   "execution_count": null,
   "id": "6dbe08eb",
   "metadata": {},
   "outputs": [],
   "source": [
    "#Split:\n",
    "hsv = cv2.cvtColor(img, cv2.COLOR_BGR2HSV)\n",
    "h,s,v=cv2.split(hsv)\n",
    "cv2.imshow(\"Hue-image\",h)\n",
    "cv2.imshow(\"Saturation-image\",s)\n",
    "cv2.imshow(\"Gray-image\",v)\n",
    "#Merge:\n",
    "Merged_HSV=cv2.merge((h,s,v))\n",
    "cv2.imshow('Merged HSV Image',Merged_HSV)\n",
    "cv2.waitKey(0)\n",
    "cv2.destoryAllWindows()"
   ]
  }
 ],
 "metadata": {
  "kernelspec": {
   "display_name": "Python 3",
   "language": "python",
   "name": "python3"
  },
  "language_info": {
   "codemirror_mode": {
    "name": "ipython",
    "version": 3
   },
   "file_extension": ".py",
   "mimetype": "text/x-python",
   "name": "python",
   "nbconvert_exporter": "python",
   "pygments_lexer": "ipython3",
   "version": "3.8.8"
  }
 },
 "nbformat": 4,
 "nbformat_minor": 5
}
